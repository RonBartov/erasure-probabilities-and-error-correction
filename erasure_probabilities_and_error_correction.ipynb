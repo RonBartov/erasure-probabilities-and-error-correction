{
  "nbformat": 4,
  "nbformat_minor": 0,
  "metadata": {
    "colab": {
      "provenance": [],
      "authorship_tag": "ABX9TyNwCYLSPR5xw41wVhNixfSd",
      "include_colab_link": true
    },
    "kernelspec": {
      "name": "python3",
      "display_name": "Python 3"
    },
    "language_info": {
      "name": "python"
    }
  },
  "cells": [
    {
      "cell_type": "markdown",
      "metadata": {
        "id": "view-in-github",
        "colab_type": "text"
      },
      "source": [
        "<a href=\"https://colab.research.google.com/github/RonBartov/Erasure_Probabilities_and_Error_Correction/blob/main/erasure_probabilities_and_error_correction.ipynb\" target=\"_parent\"><img src=\"https://colab.research.google.com/assets/colab-badge.svg\" alt=\"Open In Colab\"/></a>"
      ]
    },
    {
      "cell_type": "markdown",
      "source": [
        "# **Erasure Probabilities and Error Correction Simulations in Channel Decoding**\n",
        "\n",
        "## **Background**\n",
        "The following assignment focuses on understanding and simulating the behavior of error correction systems in binary erasure channels (BEC). The tasks involve computing erasure probabilities, implementing encoding and decoding functions, and analyzing system performance under various configurations.\n",
        "\n",
        "**Key objectives include:**\n",
        "\n",
        "${\\circ}$ Developing and simulating functions for error probabilities and bit-channel transforms.\n",
        "\n",
        "${\\circ}$ Understanding how erasure probabilities evolve in a BEC under specific conditions.\n",
        "\n",
        "${\\circ}$ Analyzing decoding success rates, frame error rates (FER), and multi-channel communication.\n",
        "\n",
        "# HERE, ADDITIONAL INFORMATION WILL BE ADDED\n",
        "- NOTES\n",
        "- DIVIDING THE ASSIGNMENT INTO DIFFERENT PARTS\n",
        "\n",
        "# IN SEPARATE TEXT BOX, THE THEORY AND FORMULAS FOR CALCULATING PROBABILITIES WILL BE ADDED"
      ],
      "metadata": {
        "id": "YdstgSzm9Q98"
      }
    },
    {
      "cell_type": "markdown",
      "source": [
        "# Import Necessary Libraries"
      ],
      "metadata": {
        "id": "rulDAA9l3m1c"
      }
    },
    {
      "cell_type": "code",
      "execution_count": null,
      "metadata": {
        "id": "_cz6hu3u9NDr"
      },
      "outputs": [],
      "source": [
        "import numpy as np\n",
        "import math"
      ]
    },
    {
      "cell_type": "markdown",
      "source": [
        "# Part 1: Computing Erasure Probabilities\n",
        "\n",
        "This part will include the following:\n",
        "\n",
        "${\\circ}$ Implementing functions for computing and plotting erasure probabilities, based on the theoretical background.\n",
        "\n",
        "${\\circ}$ Analysis of results and observed phenomena."
      ],
      "metadata": {
        "id": "CgSqYZt45fja"
      }
    },
    {
      "cell_type": "code",
      "source": [
        "def verify_power_of_two(n: int) -> None:\n",
        "    \"\"\"\n",
        "    Verifies whether a given integer is a power of two.\n",
        "\n",
        "    Args:\n",
        "        n (int): The integer to check.\n",
        "\n",
        "    Raises:\n",
        "        ValueError: If `n` is not a positive power of two.\n",
        "    \"\"\"\n",
        "    if n <= 0 or (n & (n - 1)) != 0:\n",
        "        raise ValueError(f\"Input must be a positive power of two, but got {n}.\")"
      ],
      "metadata": {
        "id": "5UoG9Epqjpnm"
      },
      "execution_count": null,
      "outputs": []
    },
    {
      "cell_type": "code",
      "source": [
        "def permutation_block(layer: int, input_array: np.ndarray) -> np.ndarray:\n",
        "    \"\"\"\n",
        "    Permutes the elements of an input numpy array based on the specified layer value.\n",
        "\n",
        "    The function rearranges the elements of the input array according to the following rules:\n",
        "    - For indices j = 0, ..., 2^(l+1)-1:\n",
        "      - If j < 2^l: the element at index j is moved to index 2j.\n",
        "      - Otherwise (j >= 2^l): the element at index j is moved to index 2(j - 2^l) + 1.\n",
        "\n",
        "    Args:\n",
        "        layer (int): The layer value 'l' that determines the permutation logic.\n",
        "        input_array (np.ndarray): The numpy array of floats to be permuted.\n",
        "\n",
        "    Returns:\n",
        "        np.ndarray: A new numpy array with elements permuted according to the given rules.\n",
        "\n",
        "    Raises:\n",
        "        ValueError: If the length of the input array is not equal to 2^(l+1).\n",
        "    \"\"\"\n",
        "    n = len(input_array)\n",
        "    expected_length = 2 ** (layer + 1)\n",
        "\n",
        "    if n != expected_length:\n",
        "        raise ValueError(f\"Input array length must be {expected_length}, but got {n}.\")\n",
        "\n",
        "    permuted_array = np.zeros_like(input_array)  # Initialize a new array of the same size with zeros\n",
        "    threshold = 2 ** layer\n",
        "\n",
        "    for j in range(n):\n",
        "        if j < threshold:\n",
        "            new_index = 2 * j\n",
        "        else:\n",
        "            new_index = 2 * (j - threshold) + 1\n",
        "\n",
        "        permuted_array[new_index] = input_array[j]\n",
        "\n",
        "    return permuted_array"
      ],
      "metadata": {
        "id": "bKP4blHW5Q8w"
      },
      "execution_count": null,
      "outputs": []
    },
    {
      "cell_type": "code",
      "source": [
        "def array_permutation_by_block(layer: int, input_array: np.ndarray) -> np.ndarray:\n",
        "    \"\"\"\n",
        "    Permutes the elements of an input numpy array by blocks using the permutation_block function.\n",
        "\n",
        "    The input array is divided into blocks of size 2^(l+1), and the permutation_block function\n",
        "    is applied to each block. The permuted blocks are then concatenated to form the final output array.\n",
        "\n",
        "    Args:\n",
        "        layer (int): The layer value 'l' that determines the block size and permutation logic.\n",
        "        input_array (np.ndarray): The numpy array of floats to be permuted by blocks.\n",
        "\n",
        "    Returns:\n",
        "        np.ndarray: A new numpy array with elements permuted by blocks according to the given rules.\n",
        "\n",
        "    Raises:\n",
        "        ValueError: If the size of the input array is not a multiple of the block size.\n",
        "    \"\"\"\n",
        "    n = len(input_array)\n",
        "    block_size = 2 ** (layer + 1)\n",
        "\n",
        "    if n % block_size != 0:\n",
        "        raise ValueError(f\"Input array size must be a multiple of the block size {block_size}, but got {n}.\")\n",
        "\n",
        "    num_blocks = n // block_size\n",
        "    permuted_array = []\n",
        "\n",
        "    for i in range(num_blocks):\n",
        "        block_start = i * block_size\n",
        "        block_end = block_start + block_size\n",
        "        block = input_array[block_start:block_end]\n",
        "        permuted_block = permutation_block(layer, block)\n",
        "        permuted_array.append(permuted_block)\n",
        "\n",
        "    return np.concatenate(permuted_array)"
      ],
      "metadata": {
        "id": "17JfBFY1_Hrc"
      },
      "execution_count": null,
      "outputs": []
    },
    {
      "cell_type": "code",
      "source": [
        "def effective_bit_channels_in_bcd(error_probabilities: np.ndarray) -> np.ndarray:\n",
        "    \"\"\"\n",
        "    Calculates the effective bit channels for a bit channel decoder based on input error probabilities.\n",
        "\n",
        "    The function computes the effective bit channel probabilities for the decoder output using the input\n",
        "    error probabilities. The calculation is based on even and odd indexed elements as follows:\n",
        "    - For even indices j = 0, 2, ..., n-2:\n",
        "      x_out[j] = 1 - [1 - x_in[j]] * [1 - x_in[j+1]]\n",
        "    - For odd indices k = 1, 3, ..., n-1:\n",
        "      x_out[k] = x_in[k-1] * x_in[k]\n",
        "\n",
        "    Args:\n",
        "        error_probabilities (np.ndarray): A numpy array of floats representing the input error probabilities.\n",
        "\n",
        "    Returns:\n",
        "        np.ndarray: A numpy array of floats representing the effective bit channel probabilities for the decoder output.\n",
        "\n",
        "    Raises:\n",
        "        ValueError: If the length of the input array is not a power of 2.\n",
        "    \"\"\"\n",
        "    n = len(error_probabilities)\n",
        "\n",
        "    if not (n and (n & (n - 1)) == 0):\n",
        "        raise ValueError(\"Input array length must be a power of 2, but got {n}.\")\n",
        "\n",
        "    output_probabilities = np.zeros_like(error_probabilities)\n",
        "\n",
        "    for j in range(0, n, 2):\n",
        "        output_probabilities[j] = 1 - (1 - error_probabilities[j]) * (1 - error_probabilities[j + 1])\n",
        "\n",
        "    for k in range(1, n, 2):\n",
        "        output_probabilities[k] = error_probabilities[k - 1] * error_probabilities[k]\n",
        "\n",
        "    return output_probabilities"
      ],
      "metadata": {
        "id": "lGAsBpktPzih"
      },
      "execution_count": null,
      "outputs": []
    },
    {
      "cell_type": "code",
      "source": [
        "def erasure_probability_recursive_u_transform(n: int, epsilon: int) -> np.ndarray:\n",
        "    \"\"\"\n",
        "    Computes the erasure probabilities of bit channels recursively using the U-transform.\n",
        "\n",
        "    Args:\n",
        "        n (int): The block size, which must be a power of 2. Represents the total number of bit channels.\n",
        "        epsilon (int): The initial erasure probability of the input channels.\n",
        "\n",
        "    Returns:\n",
        "        np.ndarray: A NumPy array of size `n` containing the computed erasure probabilities\n",
        "                    for each bit channel.\n",
        "\n",
        "    Raises:\n",
        "        ValueError: If `n` is not a power of 2 or is less than 2.\n",
        "\n",
        "    Note:\n",
        "        - The function uses recursive splitting to compute the probabilities, halving the\n",
        "          size of the problem in each recursive step.\n",
        "        - The `effective_bit_channels_in_bcd` function is used to calculate the erasure\n",
        "          probabilities after combining the split channels.\n",
        "        - The `permutation_block` function applies a specific permutation to the input\n",
        "          probabilities, based on the current layer of recursion.\n",
        "\n",
        "    \"\"\"\n",
        "    verify_power_of_two(n)\n",
        "\n",
        "    if n == 2:\n",
        "        input_probabilities = np.array([epsilon, epsilon])\n",
        "        output_probabilities = effective_bit_channels_in_bcd(input_probabilities)\n",
        "        return output_probabilities\n",
        "    else:\n",
        "        layer = int(math.log2(n)) - 1\n",
        "        input_probabilities_half_size = erasure_probability_recursive_u_transform(n//2, epsilon)\n",
        "        input_probabilities = np.concatenate((input_probabilities_half_size, input_probabilities_half_size))\n",
        "        input_probabilities_after_permutation = permutation_block(layer, input_probabilities)\n",
        "        output_probabilities = effective_bit_channels_in_bcd(input_probabilities)\n",
        "        return output_probabilities"
      ],
      "metadata": {
        "id": "kG7tg-xN_3T4"
      },
      "execution_count": null,
      "outputs": []
    },
    {
      "cell_type": "code",
      "source": [
        "n = 2 ** 10\n",
        "u = erasure_probability_recursive_u_transform(n, 0.5)\n",
        "print(len(u))"
      ],
      "metadata": {
        "id": "pk40K1EpDJdo",
        "colab": {
          "base_uri": "https://localhost:8080/"
        },
        "outputId": "de7c0277-5ab5-4917-ae7f-6fcba3750c16"
      },
      "execution_count": null,
      "outputs": [
        {
          "output_type": "stream",
          "name": "stdout",
          "text": [
            "1024\n"
          ]
        }
      ]
    },
    {
      "cell_type": "code",
      "source": [],
      "metadata": {
        "id": "_YXVoagtRiof"
      },
      "execution_count": null,
      "outputs": []
    }
  ]
}