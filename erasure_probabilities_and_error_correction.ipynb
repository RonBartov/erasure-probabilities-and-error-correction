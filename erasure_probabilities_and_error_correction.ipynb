{
  "nbformat": 4,
  "nbformat_minor": 0,
  "metadata": {
    "colab": {
      "provenance": [],
      "authorship_tag": "ABX9TyPfUWpFjV+QLj7v0dDLYERE",
      "include_colab_link": true
    },
    "kernelspec": {
      "name": "python3",
      "display_name": "Python 3"
    },
    "language_info": {
      "name": "python"
    }
  },
  "cells": [
    {
      "cell_type": "markdown",
      "metadata": {
        "id": "view-in-github",
        "colab_type": "text"
      },
      "source": [
        "<a href=\"https://colab.research.google.com/github/RonBartov/Erasure_Probabilities_and_Error_Correction/blob/main/erasure_probabilities_and_error_correction.ipynb\" target=\"_parent\"><img src=\"https://colab.research.google.com/assets/colab-badge.svg\" alt=\"Open In Colab\"/></a>"
      ]
    },
    {
      "cell_type": "markdown",
      "source": [
        "# **Erasure Probabilities and Error Correction Simulations in Channel Decoding**\n",
        "\n",
        "## **Background**\n",
        "The following assignment focuses on understanding and simulating the behavior of error correction systems in binary erasure channels (BEC). The tasks involve computing erasure probabilities, implementing encoding and decoding functions, and analyzing system performance under various configurations.\n",
        "\n",
        "**Key objectives include:**\n",
        "\n",
        "${\\circ}$ Developing and simulating functions for error probabilities and bit-channel transforms.\n",
        "\n",
        "${\\circ}$ Understanding how erasure probabilities evolve in a BEC under specific conditions.\n",
        "\n",
        "${\\circ}$ Analyzing decoding success rates, frame error rates (FER), and multi-channel communication.\n",
        "\n",
        "# HERE, ADDITIONAL INFORMATION WILL BE ADDED\n",
        "- NOTES\n",
        "- DIVIDING THE ASSIGNMENT INTO DIFFERENT PARTS\n",
        "\n",
        "# IN SEPARATE TEXT BOX, THE THEORY AND FORMULAS FOR CALCULATING PROBABILITIES WILL BE ADDED"
      ],
      "metadata": {
        "id": "YdstgSzm9Q98"
      }
    },
    {
      "cell_type": "markdown",
      "source": [
        "# Import Necessary Libraries"
      ],
      "metadata": {
        "id": "rulDAA9l3m1c"
      }
    },
    {
      "cell_type": "code",
      "execution_count": null,
      "metadata": {
        "id": "_cz6hu3u9NDr"
      },
      "outputs": [],
      "source": [
        "import numpy as np"
      ]
    },
    {
      "cell_type": "markdown",
      "source": [
        "# Part 1: Computing Erasure Probabilities\n",
        "\n",
        "This part will include the following:\n",
        "\n",
        "${\\circ}$ Implementing functions for computing and plotting erasure probabilities, based on the theoretical background.\n",
        "\n",
        "${\\circ}$ Analysis of results and observed phenomena."
      ],
      "metadata": {
        "id": "CgSqYZt45fja"
      }
    },
    {
      "cell_type": "code",
      "source": [
        "def permutation_block(layer: int, input_array: np.ndarray) -> np.ndarray:\n",
        "    \"\"\"\n",
        "    Permutes the elements of an input numpy array based on the specified layer value.\n",
        "\n",
        "    The function rearranges the elements of the input array according to the following rules:\n",
        "    - For indices j = 0, ..., 2^(l+1)-1:\n",
        "      - If j < 2^l: the element at index j is moved to index 2j.\n",
        "      - Otherwise (j >= 2^l): the element at index j is moved to index 2(j - 2^l) + 1.\n",
        "\n",
        "    Args:\n",
        "        layer (int): The layer value 'l' that determines the permutation logic.\n",
        "        input_array (np.ndarray): The numpy array of floats to be permuted.\n",
        "\n",
        "    Returns:\n",
        "        np.ndarray: A new numpy array with elements permuted according to the given rules.\n",
        "\n",
        "    Raises:\n",
        "        ValueError: If the length of the input array is not equal to 2^(l+1).\n",
        "    \"\"\"\n",
        "    n = len(input_array)\n",
        "    expected_length = 2 ** (layer + 1)\n",
        "\n",
        "    if n != expected_length:\n",
        "        raise ValueError(f\"Input array length must be {expected_length}, but got {n}.\")\n",
        "\n",
        "    permuted_array = np.zeros_like(input_array)  # Initialize a new array of the same size with zeros\n",
        "    threshold = 2 ** layer\n",
        "\n",
        "    for j in range(n):\n",
        "        if j < threshold:\n",
        "            new_index = 2 * j\n",
        "        else:\n",
        "            new_index = 2 * (j - threshold) + 1\n",
        "\n",
        "        permuted_array[new_index] = input_array[j]\n",
        "\n",
        "    return permuted_array"
      ],
      "metadata": {
        "id": "bKP4blHW5Q8w"
      },
      "execution_count": null,
      "outputs": []
    },
    {
      "cell_type": "code",
      "source": [
        "def array_permutation_by_block(layer: int, input_array: np.ndarray) -> np.ndarray:\n",
        "    \"\"\"\n",
        "    Permutes the elements of an input numpy array by blocks using the permutation_block function.\n",
        "\n",
        "    The input array is divided into blocks of size 2^(l+1), and the permutation_block function\n",
        "    is applied to each block. The permuted blocks are then concatenated to form the final output array.\n",
        "\n",
        "    Args:\n",
        "        layer (int): The layer value 'l' that determines the block size and permutation logic.\n",
        "        input_array (np.ndarray): The numpy array of floats to be permuted by blocks.\n",
        "\n",
        "    Returns:\n",
        "        np.ndarray: A new numpy array with elements permuted by blocks according to the given rules.\n",
        "\n",
        "    Raises:\n",
        "        ValueError: If the size of the input array is not a multiple of the block size.\n",
        "    \"\"\"\n",
        "    n = len(input_array)\n",
        "    block_size = 2 ** (layer + 1)\n",
        "\n",
        "    if n % block_size != 0:\n",
        "        raise ValueError(f\"Input array size must be a multiple of the block size {block_size}, but got {n}.\")\n",
        "\n",
        "    num_blocks = n // block_size\n",
        "    permuted_array = []\n",
        "\n",
        "    for i in range(num_blocks):\n",
        "        block_start = i * block_size\n",
        "        block_end = block_start + block_size\n",
        "        block = input_array[block_start:block_end]\n",
        "        permuted_block = permutation_block(layer, block)\n",
        "        permuted_array.append(permuted_block)\n",
        "\n",
        "    return np.concatenate(permuted_array)"
      ],
      "metadata": {
        "id": "17JfBFY1_Hrc"
      },
      "execution_count": null,
      "outputs": []
    },
    {
      "cell_type": "code",
      "source": [
        "x_in = np.array(range(8))\n",
        "print(x_in)\n",
        "x_out = array_permutation_by_block(1, x_in)\n",
        "print(x_out)\n"
      ],
      "metadata": {
        "colab": {
          "base_uri": "https://localhost:8080/"
        },
        "id": "kG7tg-xN_3T4",
        "outputId": "76754987-772e-4bb9-de2a-b54b74361b14"
      },
      "execution_count": null,
      "outputs": [
        {
          "output_type": "stream",
          "name": "stdout",
          "text": [
            "[0 1 2 3 4 5 6 7]\n",
            "[0 2 1 3 4 6 5 7]\n"
          ]
        }
      ]
    },
    {
      "cell_type": "code",
      "source": [],
      "metadata": {
        "id": "pk40K1EpDJdo"
      },
      "execution_count": null,
      "outputs": []
    }
  ]
}